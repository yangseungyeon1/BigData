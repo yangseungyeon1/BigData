{
  "cells": [
    {
      "cell_type": "markdown",
      "metadata": {
        "id": "NxXaTbLQ28FN"
      },
      "source": [
        "# 5.2.1 데이터 추가 처리\n"
      ]
    },
    {
      "cell_type": "code",
      "source": [
        "from google.colab import drive\n",
        "drive.mount('/content/drive')"
      ],
      "metadata": {
        "colab": {
          "base_uri": "https://localhost:8080/"
        },
        "id": "E-91uj1c3EVH",
        "outputId": "f63de37e-1c61-467f-e461-ebbddd193cab"
      },
      "execution_count": null,
      "outputs": [
        {
          "output_type": "stream",
          "name": "stdout",
          "text": [
            "Drive already mounted at /content/drive; to attempt to forcibly remount, call drive.mount(\"/content/drive\", force_remount=True).\n"
          ]
        }
      ]
    },
    {
      "cell_type": "code",
      "execution_count": null,
      "metadata": {
        "colab": {
          "base_uri": "https://localhost:8080/"
        },
        "id": "5rZ5klwr28FP",
        "outputId": "09dd4192-b994-43bc-8154-863920bc7c68"
      },
      "outputs": [
        {
          "output_type": "execute_result",
          "data": {
            "text/plain": [
              "(82122, 85)"
            ]
          },
          "metadata": {},
          "execution_count": 396
        }
      ],
      "source": [
        "import pandas as pd\n",
        "import numpy as np\n",
        "pd.set_option('display.max_columns', None)\n",
        "pd.set_option('display.max_rows', None)\n",
        "df = pd.read_csv('/content/drive/MyDrive/Colab Notebooks/dataset-4.csv')\n",
        "df.shape"
      ]
    },
    {
      "cell_type": "code",
      "execution_count": null,
      "metadata": {
        "id": "PCoK3J_K28FR",
        "colab": {
          "base_uri": "https://localhost:8080/"
        },
        "outputId": "cbc87a4e-7814-4464-b3ee-ff6b3203e523"
      },
      "outputs": [
        {
          "output_type": "execute_result",
          "data": {
            "text/plain": [
              "encounter_id                       int64\n",
              "patient_id                         int64\n",
              "hospital_id                        int64\n",
              "age                              float64\n",
              "bmi                              float64\n",
              "elective_surgery                   int64\n",
              "ethnicity                         object\n",
              "gender                            object\n",
              "height                           float64\n",
              "icu_admit_source                  object\n",
              "icu_id                             int64\n",
              "icu_stay_type                     object\n",
              "icu_type                          object\n",
              "pre_icu_los_days                 float64\n",
              "weight                           float64\n",
              "apache_2_diagnosis               float64\n",
              "apache_3j_diagnosis              float64\n",
              "apache_post_operative              int64\n",
              "arf_apache                       float64\n",
              "gcs_eyes_apache                  float64\n",
              "gcs_motor_apache                 float64\n",
              "gcs_unable_apache                float64\n",
              "gcs_verbal_apache                float64\n",
              "heart_rate_apache                float64\n",
              "intubated_apache                 float64\n",
              "map_apache                       float64\n",
              "resprate_apache                  float64\n",
              "temp_apache                      float64\n",
              "ventilated_apache                float64\n",
              "d1_diasbp_max                    float64\n",
              "d1_diasbp_min                    float64\n",
              "d1_diasbp_noninvasive_max        float64\n",
              "d1_diasbp_noninvasive_min        float64\n",
              "d1_heartrate_max                 float64\n",
              "d1_heartrate_min                 float64\n",
              "d1_mbp_max                       float64\n",
              "d1_mbp_min                       float64\n",
              "d1_mbp_noninvasive_max           float64\n",
              "d1_mbp_noninvasive_min           float64\n",
              "d1_resprate_max                  float64\n",
              "d1_resprate_min                  float64\n",
              "d1_spo2_max                      float64\n",
              "d1_spo2_min                      float64\n",
              "d1_sysbp_max                     float64\n",
              "d1_sysbp_min                     float64\n",
              "d1_sysbp_noninvasive_max         float64\n",
              "d1_sysbp_noninvasive_min         float64\n",
              "d1_temp_max                      float64\n",
              "d1_temp_min                      float64\n",
              "h1_diasbp_max                    float64\n",
              "h1_diasbp_min                    float64\n",
              "h1_diasbp_noninvasive_max        float64\n",
              "h1_diasbp_noninvasive_min        float64\n",
              "h1_heartrate_max                 float64\n",
              "h1_heartrate_min                 float64\n",
              "h1_mbp_max                       float64\n",
              "h1_mbp_min                       float64\n",
              "h1_mbp_noninvasive_max           float64\n",
              "h1_mbp_noninvasive_min           float64\n",
              "h1_resprate_max                  float64\n",
              "h1_resprate_min                  float64\n",
              "h1_spo2_max                      float64\n",
              "h1_spo2_min                      float64\n",
              "h1_sysbp_max                     float64\n",
              "h1_sysbp_min                     float64\n",
              "h1_sysbp_noninvasive_max         float64\n",
              "h1_sysbp_noninvasive_min         float64\n",
              "d1_glucose_max                   float64\n",
              "d1_glucose_min                   float64\n",
              "d1_potassium_max                 float64\n",
              "d1_potassium_min                 float64\n",
              "apache_4a_hospital_death_prob    float64\n",
              "apache_4a_icu_death_prob         float64\n",
              "aids                             float64\n",
              "cirrhosis                        float64\n",
              "diabetes_mellitus                float64\n",
              "hepatic_failure                  float64\n",
              "immunosuppression                float64\n",
              "leukemia                         float64\n",
              "lymphoma                         float64\n",
              "solid_tumor_with_metastasis      float64\n",
              "apache_3j_bodysystem              object\n",
              "apache_2_bodysystem               object\n",
              "Unnamed: 83                      float64\n",
              "hospital_death                     int64\n",
              "dtype: object"
            ]
          },
          "metadata": {},
          "execution_count": 397
        }
      ],
      "source": [
        "df.dtypes"
      ]
    },
    {
      "cell_type": "code",
      "execution_count": null,
      "metadata": {
        "id": "WiljWY_b28FR",
        "colab": {
          "base_uri": "https://localhost:8080/"
        },
        "outputId": "4d56ad0e-15b4-479a-ed1e-75cd82062074"
      },
      "outputs": [
        {
          "output_type": "execute_result",
          "data": {
            "text/plain": [
              "Caucasian           63009\n",
              "African American     8667\n",
              "Other/Unknown        4019\n",
              "Hispanic             3441\n",
              "NaN                  1191\n",
              "Asian                1051\n",
              "Native American       744\n",
              "Name: ethnicity, dtype: int64"
            ]
          },
          "metadata": {},
          "execution_count": 398
        }
      ],
      "source": [
        "df['ethnicity'].value_counts(dropna=False)   # 개수 기준 분포 구하기"
      ]
    },
    {
      "cell_type": "code",
      "execution_count": null,
      "metadata": {
        "id": "xiFCrOUu28FS",
        "colab": {
          "base_uri": "https://localhost:8080/"
        },
        "outputId": "c200ed93-e17f-40db-8177-c352fef6bc1c"
      },
      "outputs": [
        {
          "output_type": "execute_result",
          "data": {
            "text/plain": [
              "Caucasian           0.767261\n",
              "African American    0.105538\n",
              "Other/Unknown       0.048939\n",
              "Hispanic            0.041901\n",
              "NaN                 0.014503\n",
              "Asian               0.012798\n",
              "Native American     0.009060\n",
              "Name: ethnicity, dtype: float64"
            ]
          },
          "metadata": {},
          "execution_count": 399
        }
      ],
      "source": [
        "df['ethnicity'].value_counts(dropna=False, normalize=True)   # 분포 기준 분포 구하기"
      ]
    },
    {
      "cell_type": "code",
      "execution_count": null,
      "metadata": {
        "id": "_sR4GVXr28FS",
        "colab": {
          "base_uri": "https://localhost:8080/"
        },
        "outputId": "9f8338ef-b2be-4792-aae4-e3c7b2b11212"
      },
      "outputs": [
        {
          "output_type": "stream",
          "name": "stdout",
          "text": [
            "\n",
            "---- gender ---\n",
            "M      0.546869\n",
            "F      0.453045\n",
            "NaN    0.000085\n",
            "Name: gender, dtype: float64\n",
            "\n",
            "---- ethnicity ---\n",
            "Caucasian           0.767261\n",
            "African American    0.105538\n",
            "Other/Unknown       0.048939\n",
            "Hispanic            0.041901\n",
            "NaN                 0.014503\n",
            "Asian               0.012798\n",
            "Native American     0.009060\n",
            "Name: ethnicity, dtype: float64\n",
            "\n",
            "---- icu_admit_source ---\n",
            "Accident & Emergency         0.586688\n",
            "Operating Room / Recovery    0.212501\n",
            "Floor                        0.166180\n",
            "Other Hospital               0.026923\n",
            "Other ICU                    0.006563\n",
            "NaN                          0.001145\n",
            "Name: icu_admit_source, dtype: float64\n",
            "\n",
            "---- icu_stay_type ---\n",
            "admit       0.941136\n",
            "transfer    0.052629\n",
            "readmit     0.006235\n",
            "Name: icu_stay_type, dtype: float64\n",
            "\n",
            "---- icu_type ---\n",
            "Med-Surg ICU    0.543874\n",
            "Neuro ICU       0.086798\n",
            "MICU            0.082475\n",
            "CCU-CTICU       0.080234\n",
            "SICU            0.057061\n",
            "CSICU           0.052361\n",
            "Cardiac ICU     0.051825\n",
            "CTICU           0.045372\n",
            "Name: icu_type, dtype: float64\n",
            "\n",
            "---- apache_3j_bodysystem ---\n",
            "Cardiovascular          0.332323\n",
            "Neurological            0.134458\n",
            "Respiratory             0.126495\n",
            "Sepsis                  0.123572\n",
            "Gastrointestinal        0.098317\n",
            "Metabolic               0.086335\n",
            "Trauma                  0.041195\n",
            "Genitourinary           0.024123\n",
            "Musculoskeletal/Skin    0.012494\n",
            "NaN                     0.010046\n",
            "Hematological           0.007002\n",
            "Gynecological           0.003641\n",
            "Name: apache_3j_bodysystem, dtype: float64\n",
            "\n",
            "---- apache_2_bodysystem ---\n",
            "Cardiovascular         0.421361\n",
            "Neurologic             0.134458\n",
            "Respiratory            0.126495\n",
            "Gastrointestinal       0.098317\n",
            "Metabolic              0.086335\n",
            "Undefined diagnoses    0.043569\n",
            "Trauma                 0.041195\n",
            "Renal/Genitourinary    0.027459\n",
            "NaN                    0.010046\n",
            "Haematologic           0.007002\n",
            "Undefined Diagnoses    0.003763\n",
            "Name: apache_2_bodysystem, dtype: float64\n"
          ]
        }
      ],
      "source": [
        "# 범주형 변수를 cols1에 저장\n",
        "cols1 = ['gender', 'ethnicity','icu_admit_source','icu_stay_type','icu_type', 'apache_3j_bodysystem', 'apache_2_bodysystem' ]\n",
        "\n",
        "df1 = df[cols1]   # 범주형 변수만 모은 cols1로 구성된 데이터프레임 df1을 생성\n",
        "\n",
        "# 데이터프레임 df1안의 컬럼명을 순차적으로 value_counts() 구문에 넣어서 결과 출력\n",
        "for col in df1.columns:\n",
        "    print (\"\")\n",
        "    print (\"---- %s ---\" % col)\n",
        "    print (df[col].value_counts(dropna=False, normalize=True))"
      ]
    },
    {
      "cell_type": "code",
      "execution_count": null,
      "metadata": {
        "id": "I3rpVdND28FT",
        "colab": {
          "base_uri": "https://localhost:8080/"
        },
        "outputId": "283a3419-2768-4df4-99e1-c1e8aabf5f79"
      },
      "outputs": [
        {
          "output_type": "execute_result",
          "data": {
            "text/plain": [
              "['encounter_id',\n",
              " 'patient_id',\n",
              " 'hospital_id',\n",
              " 'age',\n",
              " 'bmi',\n",
              " 'elective_surgery',\n",
              " 'ethnicity',\n",
              " 'gender',\n",
              " 'height',\n",
              " 'icu_admit_source',\n",
              " 'icu_id',\n",
              " 'icu_stay_type',\n",
              " 'icu_type',\n",
              " 'pre_icu_los_days',\n",
              " 'weight',\n",
              " 'apache_2_diagnosis',\n",
              " 'apache_3j_diagnosis',\n",
              " 'apache_post_operative',\n",
              " 'arf_apache',\n",
              " 'gcs_eyes_apache',\n",
              " 'gcs_motor_apache',\n",
              " 'gcs_unable_apache',\n",
              " 'gcs_verbal_apache',\n",
              " 'heart_rate_apache',\n",
              " 'intubated_apache',\n",
              " 'map_apache',\n",
              " 'resprate_apache',\n",
              " 'temp_apache',\n",
              " 'ventilated_apache',\n",
              " 'd1_diasbp_max',\n",
              " 'd1_diasbp_min',\n",
              " 'd1_diasbp_noninvasive_max',\n",
              " 'd1_diasbp_noninvasive_min',\n",
              " 'd1_heartrate_max',\n",
              " 'd1_heartrate_min',\n",
              " 'd1_mbp_max',\n",
              " 'd1_mbp_min',\n",
              " 'd1_mbp_noninvasive_max',\n",
              " 'd1_mbp_noninvasive_min',\n",
              " 'd1_resprate_max',\n",
              " 'd1_resprate_min',\n",
              " 'd1_spo2_max',\n",
              " 'd1_spo2_min',\n",
              " 'd1_sysbp_max',\n",
              " 'd1_sysbp_min',\n",
              " 'd1_sysbp_noninvasive_max',\n",
              " 'd1_sysbp_noninvasive_min',\n",
              " 'd1_temp_max',\n",
              " 'd1_temp_min',\n",
              " 'h1_diasbp_max',\n",
              " 'h1_diasbp_min',\n",
              " 'h1_diasbp_noninvasive_max',\n",
              " 'h1_diasbp_noninvasive_min',\n",
              " 'h1_heartrate_max',\n",
              " 'h1_heartrate_min',\n",
              " 'h1_mbp_max',\n",
              " 'h1_mbp_min',\n",
              " 'h1_mbp_noninvasive_max',\n",
              " 'h1_mbp_noninvasive_min',\n",
              " 'h1_resprate_max',\n",
              " 'h1_resprate_min',\n",
              " 'h1_spo2_max',\n",
              " 'h1_spo2_min',\n",
              " 'h1_sysbp_max',\n",
              " 'h1_sysbp_min',\n",
              " 'h1_sysbp_noninvasive_max',\n",
              " 'h1_sysbp_noninvasive_min',\n",
              " 'd1_glucose_max',\n",
              " 'd1_glucose_min',\n",
              " 'd1_potassium_max',\n",
              " 'd1_potassium_min',\n",
              " 'apache_4a_hospital_death_prob',\n",
              " 'apache_4a_icu_death_prob',\n",
              " 'aids',\n",
              " 'cirrhosis',\n",
              " 'diabetes_mellitus',\n",
              " 'hepatic_failure',\n",
              " 'immunosuppression',\n",
              " 'leukemia',\n",
              " 'lymphoma',\n",
              " 'solid_tumor_with_metastasis',\n",
              " 'apache_3j_bodysystem',\n",
              " 'apache_2_bodysystem',\n",
              " 'Unnamed: 83',\n",
              " 'hospital_death']"
            ]
          },
          "metadata": {},
          "execution_count": 401
        }
      ],
      "source": [
        "# 참조 코딩\n",
        "list(df.columns)"
      ]
    },
    {
      "cell_type": "code",
      "execution_count": null,
      "metadata": {
        "id": "5zMIOw8J28FW",
        "outputId": "248985d5-36ce-4084-fd1b-7b7db8c01c60",
        "colab": {
          "base_uri": "https://localhost:8080/"
        }
      },
      "outputs": [
        {
          "output_type": "execute_result",
          "data": {
            "text/plain": [
              "gender  gender_encoded\n",
              "F       0                 37205\n",
              "M       1                 44910\n",
              "dtype: int64"
            ]
          },
          "metadata": {},
          "execution_count": 405
        }
      ],
      "source": [
        "from sklearn.preprocessing import OrdinalEncoder\n",
        "encoder = OrdinalEncoder()\n",
        "df['gender_encoded'] = encoder.fit_transform(df['gender'].values.reshape(-1, 1))\n",
        "\n",
        "# 무한대 값을 NaN으로 대체\n",
        "df.replace([np.inf, -np.inf], np.nan, inplace=True)\n",
        "\n",
        "# NaN 값을 -1로 대체\n",
        "df['gender_encoded'] = df['gender_encoded'].fillna(-1)\n",
        "\n",
        "# 'gender_encoded' 열의 데이터 타입을 int로 변환\n",
        "df['gender_encoded'] = df['gender_encoded'].astype(int)\n",
        "df.groupby(['gender', 'gender_encoded']).size()   # 변경전후 변수값 비교표 디스플레이"
      ]
    },
    {
      "cell_type": "code",
      "source": [
        "\n",
        "encoder = OrdinalEncoder()\n",
        "df['ethnicity_encoded'] = encoder.fit_transform(df['ethnicity'].values.reshape(-1, 1))\n",
        "\n",
        "# 무한대 값을 NaN으로 대체\n",
        "df.replace([np.inf, -np.inf], np.nan, inplace=True)\n",
        "\n",
        "# NaN 값을 -1로 대체\n",
        "df['ethnicity_encoded'] = df['ethnicity_encoded'].fillna(-1)\n",
        "\n",
        "# 'gender_encoded' 열의 데이터 타입을 int로 변환\n",
        "df['ethnicity_encoded'] = df['ethnicity_encoded'].astype(int)\n",
        "df.groupby(['ethnicity', 'ethnicity_encoded']).size()   # 변경전후 변수값 비교표 디스플레이"
      ],
      "metadata": {
        "colab": {
          "base_uri": "https://localhost:8080/"
        },
        "id": "HtDWnjG1L1cA",
        "outputId": "ffaa507d-c6fd-4ee7-f0a1-4ab94145fb47"
      },
      "execution_count": null,
      "outputs": [
        {
          "output_type": "execute_result",
          "data": {
            "text/plain": [
              "ethnicity         ethnicity_encoded\n",
              "African American  0                     8667\n",
              "Asian             1                     1051\n",
              "Caucasian         2                    63009\n",
              "Hispanic          3                     3441\n",
              "Native American   4                      744\n",
              "Other/Unknown     5                     4019\n",
              "dtype: int64"
            ]
          },
          "metadata": {},
          "execution_count": 406
        }
      ]
    },
    {
      "cell_type": "code",
      "source": [
        "\n",
        "encoder = OrdinalEncoder()\n",
        "df['icu_admit_source_encoded'] = encoder.fit_transform(df['icu_admit_source'].values.reshape(-1, 1))\n",
        "\n",
        "# 무한대 값을 NaN으로 대체\n",
        "df.replace([np.inf, -np.inf], np.nan, inplace=True)\n",
        "\n",
        "# NaN 값을 -1로 대체\n",
        "df['icu_admit_source_encoded'] = df['icu_admit_source_encoded'].fillna(-1)\n",
        "\n",
        "# 'gender_encoded' 열의 데이터 타입을 int로 변환\n",
        "df['icu_admit_source_encoded'] = df['icu_admit_source_encoded'].astype(int)\n",
        "df.groupby(['icu_admit_source', 'icu_admit_source_encoded']).size()   # 변경전후 변수값 비교표 디스플레이"
      ],
      "metadata": {
        "colab": {
          "base_uri": "https://localhost:8080/"
        },
        "id": "y2CcWBi0du4I",
        "outputId": "9b28abcf-35ea-4944-eebe-8508129f3b66"
      },
      "execution_count": null,
      "outputs": [
        {
          "output_type": "execute_result",
          "data": {
            "text/plain": [
              "icu_admit_source           icu_admit_source_encoded\n",
              "Accident & Emergency       0                           48180\n",
              "Floor                      1                           13647\n",
              "Operating Room / Recovery  2                           17451\n",
              "Other Hospital             3                            2211\n",
              "Other ICU                  4                             539\n",
              "dtype: int64"
            ]
          },
          "metadata": {},
          "execution_count": 407
        }
      ]
    },
    {
      "cell_type": "code",
      "source": [
        "encoder = OrdinalEncoder()\n",
        "df['icu_stay_type_encoded'] = encoder.fit_transform(df['icu_stay_type'].values.reshape(-1, 1))\n",
        "\n",
        "# 무한대 값을 NaN으로 대체\n",
        "df.replace([np.inf, -np.inf], np.nan, inplace=True)\n",
        "\n",
        "# NaN 값을 -1로 대체\n",
        "df['icu_stay_type_encoded'] = df['icu_stay_type_encoded'].fillna(-1)\n",
        "\n",
        "# 'gender_encoded' 열의 데이터 타입을 int로 변환\n",
        "df['icu_stay_type_encoded'] = df['icu_stay_type_encoded'].astype(int)\n",
        "df.groupby(['icu_stay_type', 'icu_stay_type_encoded']).size()   # 변경전후 변수값 비교표 디스플레이"
      ],
      "metadata": {
        "colab": {
          "base_uri": "https://localhost:8080/"
        },
        "id": "-JxkxlEAdu1i",
        "outputId": "b659b299-913f-4a73-9d52-01d8a67586fb"
      },
      "execution_count": null,
      "outputs": [
        {
          "output_type": "execute_result",
          "data": {
            "text/plain": [
              "icu_stay_type  icu_stay_type_encoded\n",
              "admit          0                        77288\n",
              "readmit        1                          512\n",
              "transfer       2                         4322\n",
              "dtype: int64"
            ]
          },
          "metadata": {},
          "execution_count": 408
        }
      ]
    },
    {
      "cell_type": "code",
      "source": [
        "encoder = OrdinalEncoder()\n",
        "df['icu_type_encoded'] = encoder.fit_transform(df['icu_type'].values.reshape(-1, 1))\n",
        "\n",
        "# 무한대 값을 NaN으로 대체\n",
        "df.replace([np.inf, -np.inf], np.nan, inplace=True)\n",
        "\n",
        "# NaN 값을 -1로 대체\n",
        "df['icu_type_encoded'] = df['icu_type_encoded'].fillna(-1)\n",
        "\n",
        "# 'gender_encoded' 열의 데이터 타입을 int로 변환\n",
        "df['icu_type_encoded'] = df['icu_type_encoded'].astype(int)\n",
        "df.groupby(['icu_type', 'icu_type_encoded']).size()   # 변경전후 변수값 비교표 디스플레이"
      ],
      "metadata": {
        "colab": {
          "base_uri": "https://localhost:8080/"
        },
        "id": "TJRN1CURduy_",
        "outputId": "dfd79340-2260-446a-ef21-c7ab8435711f"
      },
      "execution_count": null,
      "outputs": [
        {
          "output_type": "execute_result",
          "data": {
            "text/plain": [
              "icu_type      icu_type_encoded\n",
              "CCU-CTICU     0                    6589\n",
              "CSICU         1                    4300\n",
              "CTICU         2                    3726\n",
              "Cardiac ICU   3                    4256\n",
              "MICU          4                    6773\n",
              "Med-Surg ICU  5                   44664\n",
              "Neuro ICU     6                    7128\n",
              "SICU          7                    4686\n",
              "dtype: int64"
            ]
          },
          "metadata": {},
          "execution_count": 409
        }
      ]
    },
    {
      "cell_type": "code",
      "source": [
        "encoder = OrdinalEncoder()\n",
        "df['apache_3j_bodysystem_encoded'] = encoder.fit_transform(df['apache_3j_bodysystem'].values.reshape(-1, 1))\n",
        "\n",
        "# 무한대 값을 NaN으로 대체\n",
        "df.replace([np.inf, -np.inf], np.nan, inplace=True)\n",
        "\n",
        "# NaN 값을 -1로 대체\n",
        "df['apache_3j_bodysystem_encoded'] = df['apache_3j_bodysystem_encoded'].fillna(-1)\n",
        "\n",
        "# 'gender_encoded' 열의 데이터 타입을 int로 변환\n",
        "df['apache_3j_bodysystem_encoded'] = df['apache_3j_bodysystem_encoded'].astype(int)\n",
        "df.groupby(['apache_3j_bodysystem', 'apache_3j_bodysystem_encoded']).size()   # 변경전후 변수값 비교표 디스플레이"
      ],
      "metadata": {
        "colab": {
          "base_uri": "https://localhost:8080/"
        },
        "id": "6bvrEX_xdurv",
        "outputId": "37c4e82d-0457-4778-d01a-f6e73847d835"
      },
      "execution_count": null,
      "outputs": [
        {
          "output_type": "execute_result",
          "data": {
            "text/plain": [
              "apache_3j_bodysystem  apache_3j_bodysystem_encoded\n",
              "Cardiovascular        0                               27291\n",
              "Gastrointestinal      1                                8074\n",
              "Genitourinary         2                                1981\n",
              "Gynecological         3                                 299\n",
              "Hematological         4                                 575\n",
              "Metabolic             5                                7090\n",
              "Musculoskeletal/Skin  6                                1026\n",
              "Neurological          7                               11042\n",
              "Respiratory           8                               10388\n",
              "Sepsis                9                               10148\n",
              "Trauma                10                               3383\n",
              "dtype: int64"
            ]
          },
          "metadata": {},
          "execution_count": 410
        }
      ]
    },
    {
      "cell_type": "code",
      "source": [
        "encoder = OrdinalEncoder()\n",
        "df['apache_2_bodysystem_encoded'] = encoder.fit_transform(df['apache_2_bodysystem'].values.reshape(-1, 1))\n",
        "\n",
        "# 무한대 값을 NaN으로 대체\n",
        "df.replace([np.inf, -np.inf], np.nan, inplace=True)\n",
        "\n",
        "# NaN 값을 -1로 대체\n",
        "df['apache_2_bodysystem_encoded'] = df['apache_2_bodysystem_encoded'].fillna(-1)\n",
        "\n",
        "# 'gender_encoded' 열의 데이터 타입을 int로 변환\n",
        "df['apache_2_bodysystem_encoded'] = df['apache_2_bodysystem_encoded'].astype(int)\n",
        "df.groupby(['apache_2_bodysystem', 'apache_2_bodysystem_encoded']).size()   # 변경전후 변수값 비교표 디스플레이"
      ],
      "metadata": {
        "colab": {
          "base_uri": "https://localhost:8080/"
        },
        "id": "-9W3T26vdukH",
        "outputId": "d26de016-6ec3-4ed2-bfad-1d943a742b73"
      },
      "execution_count": null,
      "outputs": [
        {
          "output_type": "execute_result",
          "data": {
            "text/plain": [
              "apache_2_bodysystem  apache_2_bodysystem_encoded\n",
              "Cardiovascular       0                              34603\n",
              "Gastrointestinal     1                               8074\n",
              "Haematologic         2                                575\n",
              "Metabolic            3                               7090\n",
              "Neurologic           4                              11042\n",
              "Renal/Genitourinary  5                               2255\n",
              "Respiratory          6                              10388\n",
              "Trauma               7                               3383\n",
              "Undefined Diagnoses  8                                309\n",
              "Undefined diagnoses  9                               3578\n",
              "dtype: int64"
            ]
          },
          "metadata": {},
          "execution_count": 411
        }
      ]
    },
    {
      "cell_type": "code",
      "execution_count": null,
      "metadata": {
        "scrolled": true,
        "id": "Q-tYoCLd28FY",
        "colab": {
          "base_uri": "https://localhost:8080/"
        },
        "outputId": "25808432-c0d4-4341-ac93-39e4225d235b"
      },
      "outputs": [
        {
          "output_type": "execute_result",
          "data": {
            "text/plain": [
              "Index(['encounter_id', 'patient_id', 'hospital_id', 'age', 'bmi',\n",
              "       'elective_surgery', 'ethnicity', 'gender', 'height', 'icu_admit_source',\n",
              "       'icu_id', 'icu_stay_type', 'icu_type', 'pre_icu_los_days', 'weight',\n",
              "       'apache_2_diagnosis', 'apache_3j_diagnosis', 'apache_post_operative',\n",
              "       'arf_apache', 'gcs_eyes_apache', 'gcs_motor_apache',\n",
              "       'gcs_unable_apache', 'gcs_verbal_apache', 'heart_rate_apache',\n",
              "       'intubated_apache', 'map_apache', 'resprate_apache', 'temp_apache',\n",
              "       'ventilated_apache', 'd1_diasbp_max', 'd1_diasbp_min',\n",
              "       'd1_diasbp_noninvasive_max', 'd1_diasbp_noninvasive_min',\n",
              "       'd1_heartrate_max', 'd1_heartrate_min', 'd1_mbp_max', 'd1_mbp_min',\n",
              "       'd1_mbp_noninvasive_max', 'd1_mbp_noninvasive_min', 'd1_resprate_max',\n",
              "       'd1_resprate_min', 'd1_spo2_max', 'd1_spo2_min', 'd1_sysbp_max',\n",
              "       'd1_sysbp_min', 'd1_sysbp_noninvasive_max', 'd1_sysbp_noninvasive_min',\n",
              "       'd1_temp_max', 'd1_temp_min', 'h1_diasbp_max', 'h1_diasbp_min',\n",
              "       'h1_diasbp_noninvasive_max', 'h1_diasbp_noninvasive_min',\n",
              "       'h1_heartrate_max', 'h1_heartrate_min', 'h1_mbp_max', 'h1_mbp_min',\n",
              "       'h1_mbp_noninvasive_max', 'h1_mbp_noninvasive_min', 'h1_resprate_max',\n",
              "       'h1_resprate_min', 'h1_spo2_max', 'h1_spo2_min', 'h1_sysbp_max',\n",
              "       'h1_sysbp_min', 'h1_sysbp_noninvasive_max', 'h1_sysbp_noninvasive_min',\n",
              "       'd1_glucose_max', 'd1_glucose_min', 'd1_potassium_max',\n",
              "       'd1_potassium_min', 'apache_4a_hospital_death_prob',\n",
              "       'apache_4a_icu_death_prob', 'aids', 'cirrhosis', 'diabetes_mellitus',\n",
              "       'hepatic_failure', 'immunosuppression', 'leukemia', 'lymphoma',\n",
              "       'solid_tumor_with_metastasis', 'apache_3j_bodysystem',\n",
              "       'apache_2_bodysystem', 'Unnamed: 83', 'hospital_death',\n",
              "       'gender_encoded', 'ethnicity_encoded', 'icu_admit_source_encoded',\n",
              "       'icu_stay_type_encoded', 'icu_type_encoded',\n",
              "       'apache_3j_bodysystem_encoded', 'apache_2_bodysystem_encoded'],\n",
              "      dtype='object')"
            ]
          },
          "metadata": {},
          "execution_count": 412
        }
      ],
      "source": [
        "df.columns"
      ]
    },
    {
      "cell_type": "code",
      "execution_count": null,
      "metadata": {
        "id": "sN6jT4W528FY"
      },
      "outputs": [],
      "source": [
        "df.drop(['gender', 'ethnicity','icu_admit_source','icu_stay_type','icu_type', 'apache_3j_bodysystem', 'apache_2_bodysystem'],axis=1, inplace=True)"
      ]
    },
    {
      "cell_type": "code",
      "execution_count": null,
      "metadata": {
        "id": "bN2N79xZ28FY",
        "colab": {
          "base_uri": "https://localhost:8080/"
        },
        "outputId": "6f6b0024-75fa-4044-c3b2-0026b68fa7f1"
      },
      "outputs": [
        {
          "output_type": "execute_result",
          "data": {
            "text/plain": [
              "['encounter_id',\n",
              " 'patient_id',\n",
              " 'hospital_id',\n",
              " 'age',\n",
              " 'bmi',\n",
              " 'elective_surgery',\n",
              " 'height',\n",
              " 'icu_id',\n",
              " 'pre_icu_los_days',\n",
              " 'weight',\n",
              " 'apache_2_diagnosis',\n",
              " 'apache_3j_diagnosis',\n",
              " 'apache_post_operative',\n",
              " 'arf_apache',\n",
              " 'gcs_eyes_apache',\n",
              " 'gcs_motor_apache',\n",
              " 'gcs_unable_apache',\n",
              " 'gcs_verbal_apache',\n",
              " 'heart_rate_apache',\n",
              " 'intubated_apache',\n",
              " 'map_apache',\n",
              " 'resprate_apache',\n",
              " 'temp_apache',\n",
              " 'ventilated_apache',\n",
              " 'd1_diasbp_max',\n",
              " 'd1_diasbp_min',\n",
              " 'd1_diasbp_noninvasive_max',\n",
              " 'd1_diasbp_noninvasive_min',\n",
              " 'd1_heartrate_max',\n",
              " 'd1_heartrate_min',\n",
              " 'd1_mbp_max',\n",
              " 'd1_mbp_min',\n",
              " 'd1_mbp_noninvasive_max',\n",
              " 'd1_mbp_noninvasive_min',\n",
              " 'd1_resprate_max',\n",
              " 'd1_resprate_min',\n",
              " 'd1_spo2_max',\n",
              " 'd1_spo2_min',\n",
              " 'd1_sysbp_max',\n",
              " 'd1_sysbp_min',\n",
              " 'd1_sysbp_noninvasive_max',\n",
              " 'd1_sysbp_noninvasive_min',\n",
              " 'd1_temp_max',\n",
              " 'd1_temp_min',\n",
              " 'h1_diasbp_max',\n",
              " 'h1_diasbp_min',\n",
              " 'h1_diasbp_noninvasive_max',\n",
              " 'h1_diasbp_noninvasive_min',\n",
              " 'h1_heartrate_max',\n",
              " 'h1_heartrate_min',\n",
              " 'h1_mbp_max',\n",
              " 'h1_mbp_min',\n",
              " 'h1_mbp_noninvasive_max',\n",
              " 'h1_mbp_noninvasive_min',\n",
              " 'h1_resprate_max',\n",
              " 'h1_resprate_min',\n",
              " 'h1_spo2_max',\n",
              " 'h1_spo2_min',\n",
              " 'h1_sysbp_max',\n",
              " 'h1_sysbp_min',\n",
              " 'h1_sysbp_noninvasive_max',\n",
              " 'h1_sysbp_noninvasive_min',\n",
              " 'd1_glucose_max',\n",
              " 'd1_glucose_min',\n",
              " 'd1_potassium_max',\n",
              " 'd1_potassium_min',\n",
              " 'apache_4a_hospital_death_prob',\n",
              " 'apache_4a_icu_death_prob',\n",
              " 'aids',\n",
              " 'cirrhosis',\n",
              " 'diabetes_mellitus',\n",
              " 'hepatic_failure',\n",
              " 'immunosuppression',\n",
              " 'leukemia',\n",
              " 'lymphoma',\n",
              " 'solid_tumor_with_metastasis',\n",
              " 'Unnamed: 83',\n",
              " 'hospital_death',\n",
              " 'gender_encoded',\n",
              " 'ethnicity_encoded',\n",
              " 'icu_admit_source_encoded',\n",
              " 'icu_stay_type_encoded',\n",
              " 'icu_type_encoded',\n",
              " 'apache_3j_bodysystem_encoded',\n",
              " 'apache_2_bodysystem_encoded']"
            ]
          },
          "metadata": {},
          "execution_count": 414
        }
      ],
      "source": [
        "# 책에서는 df.columns라는 더 간단한 명령어를 사용했습니다.\n",
        "list(df.columns)"
      ]
    },
    {
      "cell_type": "code",
      "execution_count": null,
      "metadata": {
        "id": "blS_NyYE28FZ",
        "outputId": "0c51520d-c673-4855-f45d-043a6b55377c",
        "colab": {
          "base_uri": "https://localhost:8080/"
        }
      },
      "outputs": [
        {
          "output_type": "execute_result",
          "data": {
            "text/plain": [
              "(82122, 85)"
            ]
          },
          "metadata": {},
          "execution_count": 415
        }
      ],
      "source": [
        "df.shape"
      ]
    },
    {
      "cell_type": "code",
      "execution_count": null,
      "metadata": {
        "id": "tRjJE0FP28FZ",
        "colab": {
          "base_uri": "https://localhost:8080/"
        },
        "outputId": "3088ed9f-62f4-4c76-ab34-d55e0909c473"
      },
      "outputs": [
        {
          "output_type": "execute_result",
          "data": {
            "text/plain": [
              "bmi                              True\n",
              "height                           True\n",
              "weight                           True\n",
              "apache_2_diagnosis               True\n",
              "apache_3j_diagnosis              True\n",
              "gcs_eyes_apache                  True\n",
              "gcs_motor_apache                 True\n",
              "gcs_unable_apache                True\n",
              "gcs_verbal_apache                True\n",
              "heart_rate_apache                True\n",
              "map_apache                       True\n",
              "resprate_apache                  True\n",
              "temp_apache                      True\n",
              "d1_diasbp_max                    True\n",
              "d1_diasbp_min                    True\n",
              "d1_diasbp_noninvasive_max        True\n",
              "d1_diasbp_noninvasive_min        True\n",
              "d1_heartrate_max                 True\n",
              "d1_heartrate_min                 True\n",
              "d1_mbp_max                       True\n",
              "d1_mbp_min                       True\n",
              "d1_mbp_noninvasive_max           True\n",
              "d1_mbp_noninvasive_min           True\n",
              "d1_resprate_max                  True\n",
              "d1_resprate_min                  True\n",
              "d1_sysbp_max                     True\n",
              "d1_sysbp_min                     True\n",
              "d1_sysbp_noninvasive_max         True\n",
              "d1_sysbp_noninvasive_min         True\n",
              "d1_temp_max                      True\n",
              "d1_temp_min                      True\n",
              "h1_diasbp_max                    True\n",
              "h1_diasbp_min                    True\n",
              "h1_diasbp_noninvasive_max        True\n",
              "h1_diasbp_noninvasive_min        True\n",
              "h1_heartrate_max                 True\n",
              "h1_heartrate_min                 True\n",
              "h1_mbp_max                       True\n",
              "h1_mbp_min                       True\n",
              "h1_mbp_noninvasive_max           True\n",
              "h1_mbp_noninvasive_min           True\n",
              "h1_resprate_max                  True\n",
              "h1_resprate_min                  True\n",
              "h1_spo2_max                      True\n",
              "h1_spo2_min                      True\n",
              "h1_sysbp_max                     True\n",
              "h1_sysbp_min                     True\n",
              "h1_sysbp_noninvasive_max         True\n",
              "h1_sysbp_noninvasive_min         True\n",
              "d1_glucose_max                   True\n",
              "d1_glucose_min                   True\n",
              "d1_potassium_max                 True\n",
              "d1_potassium_min                 True\n",
              "apache_4a_hospital_death_prob    True\n",
              "apache_4a_icu_death_prob         True\n",
              "Unnamed: 83                      True\n",
              "dtype: bool"
            ]
          },
          "metadata": {},
          "execution_count": 416
        }
      ],
      "source": [
        "df.isna().any()[lambda x: x]   # null value를 갖고 있는 변수명(컬럼명) 찾기"
      ]
    },
    {
      "cell_type": "code",
      "execution_count": null,
      "metadata": {
        "id": "ssk9bTIG28FZ",
        "outputId": "96c7f9fd-3976-476d-b5c1-40d481cdbd40",
        "colab": {
          "base_uri": "https://localhost:8080/"
        }
      },
      "outputs": [
        {
          "output_type": "execute_result",
          "data": {
            "text/plain": [
              "2948"
            ]
          },
          "metadata": {},
          "execution_count": 417
        }
      ],
      "source": [
        "df['bmi'].isnull().sum()       # bmi의 결측값 개수 확인"
      ]
    },
    {
      "cell_type": "code",
      "source": [
        "import pandas as pd\n",
        "import numpy as np\n",
        "\n",
        "# NaN 값을 0으로 대체 (또는 다른 값으로 대체 가능)\n",
        "df = df.fillna(0)\n",
        "\n",
        "# 변수 타입 변환 (숫자로 변환 가능한 값만 변환)\n",
        "df = df.apply(pd.to_numeric, errors='coerce')"
      ],
      "metadata": {
        "id": "XP99xNbRiIHj"
      },
      "execution_count": null,
      "outputs": []
    },
    {
      "cell_type": "code",
      "execution_count": null,
      "metadata": {
        "id": "vg3bfvzH28Fa"
      },
      "outputs": [],
      "source": [
        "df.to_csv('/content/drive/MyDrive/Colab Notebooks/t/dataset-6(14).csv', index=False)"
      ]
    }
  ],
  "metadata": {
    "kernelspec": {
      "display_name": "Python 3 (ipykernel)",
      "language": "python",
      "name": "python3"
    },
    "language_info": {
      "codemirror_mode": {
        "name": "ipython",
        "version": 3
      },
      "file_extension": ".py",
      "mimetype": "text/x-python",
      "name": "python",
      "nbconvert_exporter": "python",
      "pygments_lexer": "ipython3",
      "version": "3.9.7"
    },
    "colab": {
      "provenance": []
    }
  },
  "nbformat": 4,
  "nbformat_minor": 0
}